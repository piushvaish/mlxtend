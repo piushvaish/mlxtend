{
 "cells": [
  {
   "cell_type": "markdown",
   "metadata": {},
   "source": [
    "# PredefinedHoldoutSplit"
   ]
  },
  {
   "cell_type": "markdown",
   "metadata": {},
   "source": [
    "Split a dataset into a train and validation subset for validation based on user-specified indices."
   ]
  },
  {
   "cell_type": "markdown",
   "metadata": {},
   "source": [
    "> `from mlxtend.evaluate import PredefinedHoldoutSplit`    "
   ]
  },
  {
   "cell_type": "markdown",
   "metadata": {},
   "source": [
    "## Overview"
   ]
  },
  {
   "cell_type": "markdown",
   "metadata": {},
   "source": [
    "The `PredefinedHoldoutSplit` class serves as an alternative to scikit-learn's `KFold` class, where the `PredefinedHoldoutSplit` class splits a dataset into training and a validation subsets without rotation, based on validation indices specified by the user. The `PredefinedHoldoutSplit` can be used as argument for `cv` parameters in scikit-learn's `GridSearchCV` etc.\n",
    "\n",
    "For performing a random split, see the related `RandomHoldoutSplit` class."
   ]
  },
  {
   "cell_type": "markdown",
   "metadata": {},
   "source": [
    "## Example 1 -- Iterating Over a PredefinedHoldoutSplit"
   ]
  },
  {
   "cell_type": "code",
   "execution_count": 1,
   "metadata": {},
   "outputs": [
    {
     "name": "stdout",
     "output_type": "stream",
     "text": [
      "1\n"
     ]
    }
   ],
   "source": [
    "from mlxtend.evaluate import PredefinedHoldoutSplit\n",
    "from mlxtend.data import iris_data\n",
    "\n",
    "X, y = iris_data()\n",
    "h_iter = PredefinedHoldoutSplit(valid_indices=[0, 1, 99])\n",
    "\n",
    "cnt = 0\n",
    "for train_ind, valid_ind in h_iter.split(X, y):\n",
    "    cnt += 1\n",
    "    print(cnt)"
   ]
  },
  {
   "cell_type": "code",
   "execution_count": 2,
   "metadata": {},
   "outputs": [
    {
     "name": "stdout",
     "output_type": "stream",
     "text": [
      "[2 3 4 5 6]\n",
      "[ 0  1 99]\n"
     ]
    }
   ],
   "source": [
    "print(train_ind[:5])\n",
    "print(valid_ind[:5])"
   ]
  },
  {
   "cell_type": "markdown",
   "metadata": {},
   "source": [
    "## Example 2 -- PredefinedHoldoutSplit in GridSearch"
   ]
  },
  {
   "cell_type": "code",
   "execution_count": 3,
   "metadata": {},
   "outputs": [
    {
     "name": "stdout",
     "output_type": "stream",
     "text": [
      "[mean: 1.00000, std: 0.00000, params: {'n_neighbors': 1}, mean: 1.00000, std: 0.00000, params: {'n_neighbors': 2}, mean: 1.00000, std: 0.00000, params: {'n_neighbors': 3}, mean: 1.00000, std: 0.00000, params: {'n_neighbors': 4}, mean: 1.00000, std: 0.00000, params: {'n_neighbors': 5}]\n"
     ]
    },
    {
     "name": "stderr",
     "output_type": "stream",
     "text": [
      "/Users/sebastian/miniconda3/lib/python3.6/site-packages/sklearn/model_selection/_search.py:762: DeprecationWarning: The grid_scores_ attribute was deprecated in version 0.18 in favor of the more elaborate cv_results_ attribute. The grid_scores_ attribute will not be available from 0.20\n",
      "  DeprecationWarning)\n"
     ]
    }
   ],
   "source": [
    "from sklearn.model_selection import GridSearchCV\n",
    "from sklearn.neighbors import KNeighborsClassifier\n",
    "from mlxtend.evaluate import PredefinedHoldoutSplit\n",
    "from mlxtend.data import iris_data\n",
    "\n",
    "X, y = iris_data()\n",
    "\n",
    "\n",
    "params = {'n_neighbors': [1, 2, 3, 4, 5]}\n",
    "\n",
    "grid = GridSearchCV(KNeighborsClassifier(),\n",
    "                    param_grid=params,\n",
    "                    cv=PredefinedHoldoutSplit(valid_indices=[0, 1, 99]))\n",
    "\n",
    "grid.fit(X, y)\n",
    "\n",
    "assert grid.n_splits_ == 1\n",
    "print(grid.grid_scores_)"
   ]
  },
  {
   "cell_type": "markdown",
   "metadata": {},
   "source": [
    "## API"
   ]
  },
  {
   "cell_type": "code",
   "execution_count": 4,
   "metadata": {},
   "outputs": [
    {
     "name": "stdout",
     "output_type": "stream",
     "text": [
      "## PredefinedHoldoutSplit\n",
      "\n",
      "*PredefinedHoldoutSplit(valid_indices)*\n",
      "\n",
      "Train/Validation set splitter for sklearn's GridSearchCV etc.\n",
      "\n",
      "Uses user-specified train/validation set indices to split a dataset\n",
      "into train/validation sets using user-defined or random\n",
      "indices.\n",
      "\n",
      "**Parameters**\n",
      "\n",
      "- `valid_indices` : array-like, shape (num_examples,)\n",
      "\n",
      "    Indices of the training examples in the training set\n",
      "    to be used for validation. All other indices in the\n",
      "    training set are used to for a training subset\n",
      "    for model fitting.\n",
      "\n",
      "### Methods\n",
      "\n",
      "<hr>\n",
      "\n",
      "*get_n_splits(X=None, y=None, groups=None)*\n",
      "\n",
      "Returns the number of splitting iterations in the cross-validator\n",
      "\n",
      "**Parameters**\n",
      "\n",
      "- `X` : object\n",
      "\n",
      "    Always ignored, exists for compatibility.\n",
      "\n",
      "\n",
      "- `y` : object\n",
      "\n",
      "    Always ignored, exists for compatibility.\n",
      "\n",
      "\n",
      "- `groups` : object\n",
      "\n",
      "    Always ignored, exists for compatibility.\n",
      "\n",
      "**Returns**\n",
      "\n",
      "- `n_splits` : 1\n",
      "\n",
      "    Returns the number of splitting iterations in the cross-validator.\n",
      "    Always returns 1.\n",
      "\n",
      "<hr>\n",
      "\n",
      "*split(X, y, groups=None)*\n",
      "\n",
      "Generate indices to split data into training and test set.\n",
      "\n",
      "**Parameters**\n",
      "\n",
      "- `X` : array-like, shape (num_examples, num_features)\n",
      "\n",
      "    Training data, where num_examples is the number of examples\n",
      "    and num_features is the number of features.\n",
      "\n",
      "\n",
      "- `y` : array-like, shape (num_examples,)\n",
      "\n",
      "    The target variable for supervised learning problems.\n",
      "    Stratification is done based on the y labels.\n",
      "\n",
      "\n",
      "- `groups` : object\n",
      "\n",
      "    Always ignored, exists for compatibility.\n",
      "\n",
      "**Yields**\n",
      "\n",
      "- `train_index` : ndarray\n",
      "\n",
      "    The training set indices for that split.\n",
      "\n",
      "\n",
      "- `valid_index` : ndarray\n",
      "\n",
      "    The validation set indices for that split.\n",
      "\n",
      "\n"
     ]
    }
   ],
   "source": [
    "with open('../../api_modules/mlxtend.evaluate/PredefinedHoldoutSplit.md', 'r') as f:\n",
    "    s = f.read() \n",
    "print(s)"
   ]
  },
  {
   "cell_type": "code",
   "execution_count": null,
   "metadata": {},
   "outputs": [],
   "source": []
  }
 ],
 "metadata": {
  "anaconda-cloud": {},
  "kernelspec": {
   "display_name": "Python 3",
   "language": "python",
   "name": "python3"
  },
  "language_info": {
   "codemirror_mode": {
    "name": "ipython",
    "version": 3
   },
   "file_extension": ".py",
   "mimetype": "text/x-python",
   "name": "python",
   "nbconvert_exporter": "python",
   "pygments_lexer": "ipython3",
   "version": "3.6.6"
  },
  "toc": {
   "nav_menu": {},
   "number_sections": true,
   "sideBar": true,
   "skip_h1_title": false,
   "title_cell": "Table of Contents",
   "title_sidebar": "Contents",
   "toc_cell": false,
   "toc_position": {},
   "toc_section_display": true,
   "toc_window_display": false
  }
 },
 "nbformat": 4,
 "nbformat_minor": 1
}
