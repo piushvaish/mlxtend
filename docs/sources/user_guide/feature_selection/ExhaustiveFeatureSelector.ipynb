{
 "cells": [
  {
   "cell_type": "markdown",
   "metadata": {},
   "source": [
    "Sebastian Raschka, 2015-2020  \n",
    "`mlxtend`, a library of extension and helper modules for Python's data analysis and machine learning libraries\n",
    "\n",
    "- GitHub repository: https://github.com/rasbt/mlxtend\n",
    "- Documentation: http://rasbt.github.io/mlxtend/"
   ]
  },
  {
   "cell_type": "code",
   "execution_count": 1,
   "metadata": {},
   "outputs": [
    {
     "name": "stdout",
     "output_type": "stream",
     "text": [
      "Sebastian Raschka \n",
      "last updated: 2020-05-02 \n",
      "\n",
      "CPython 3.7.1\n",
      "IPython 7.13.0\n",
      "\n",
      "matplotlib 3.1.3\n",
      "numpy 1.18.1\n",
      "scipy 1.4.1\n",
      "mlxtend 0.17.2\n"
     ]
    }
   ],
   "source": [
    "%load_ext watermark\n",
    "%watermark -a 'Sebastian Raschka' -u -d -v -p matplotlib,numpy,scipy,mlxtend"
   ]
  },
  {
   "cell_type": "code",
   "execution_count": 2,
   "metadata": {},
   "outputs": [],
   "source": [
    "%matplotlib inline"
   ]
  },
  {
   "cell_type": "markdown",
   "metadata": {},
   "source": [
    "# Exhaustive Feature Selector"
   ]
  },
  {
   "cell_type": "markdown",
   "metadata": {},
   "source": [
    "Implementation of an *exhaustive feature selector* for sampling and evaluating all possible feature combinations in a specified range."
   ]
  },
  {
   "cell_type": "markdown",
   "metadata": {},
   "source": [
    "> from mlxtend.feature_selection import ExhaustiveFeatureSelector"
   ]
  },
  {
   "cell_type": "markdown",
   "metadata": {},
   "source": [
    "## Overview"
   ]
  },
  {
   "cell_type": "markdown",
   "metadata": {},
   "source": [
    "This exhaustive feature selection algorithm is a wrapper approach for brute-force evaluation of feature subsets; the best subset is selected by optimizing a specified performance metric given an arbitrary regressor or classifier. For instance, if the classifier is a logistic regression and the dataset consists of 4 features, the alogorithm will evaluate all 15 feature combinations (if `min_features=1` and `max_features=4`)\n",
    "\n",
    "- {0}\n",
    "- {1}\n",
    "- {2}\n",
    "- {3}\n",
    "- {0, 1}\n",
    "- {0, 2}\n",
    "- {0, 3}\n",
    "- {1, 2}\n",
    "- {1, 3}\n",
    "- {2, 3}\n",
    "- {0, 1, 2}\n",
    "- {0, 1, 3}\n",
    "- {0, 2, 3}\n",
    "- {1, 2, 3}\n",
    "- {0, 1, 2, 3}\n",
    "\n",
    "and select the one that results in the best performance (e.g., classification accuracy) of the logistic regression classifier.\n",
    "\n"
   ]
  },
  {
   "cell_type": "markdown",
   "metadata": {},
   "source": [
    "## Example 1 - A simple Iris example"
   ]
  },
  {
   "cell_type": "markdown",
   "metadata": {},
   "source": [
    "Initializing a simple classifier from scikit-learn:"
   ]
  },
  {
   "cell_type": "code",
   "execution_count": 3,
   "metadata": {},
   "outputs": [
    {
     "name": "stderr",
     "output_type": "stream",
     "text": [
      "Features: 15/15"
     ]
    },
    {
     "name": "stdout",
     "output_type": "stream",
     "text": [
      "Best accuracy score: 0.97\n",
      "Best subset (indices): (0, 2, 3)\n",
      "Best subset (corresponding names): ('0', '2', '3')\n"
     ]
    }
   ],
   "source": [
    "from sklearn.neighbors import KNeighborsClassifier\n",
    "from sklearn.datasets import load_iris\n",
    "from mlxtend.feature_selection import ExhaustiveFeatureSelector as EFS\n",
    "\n",
    "iris = load_iris()\n",
    "X = iris.data\n",
    "y = iris.target\n",
    "\n",
    "knn = KNeighborsClassifier(n_neighbors=3)\n",
    "\n",
    "efs1 = EFS(knn, \n",
    "           min_features=1,\n",
    "           max_features=4,\n",
    "           scoring='accuracy',\n",
    "           print_progress=True,\n",
    "           cv=5)\n",
    "\n",
    "efs1 = efs1.fit(X, y)\n",
    "\n",
    "print('Best accuracy score: %.2f' % efs1.best_score_)\n",
    "print('Best subset (indices):', efs1.best_idx_)\n",
    "print('Best subset (corresponding names):', efs1.best_feature_names_)"
   ]
  },
  {
   "cell_type": "markdown",
   "metadata": {},
   "source": [
    "Note that in the example above, the  'best_feature_names_' are simply a string equivalent of the feature indices. However, we can provide custom feature names to the `fit` function for this mapping:"
   ]
  },
  {
   "cell_type": "code",
   "execution_count": 4,
   "metadata": {},
   "outputs": [
    {
     "name": "stderr",
     "output_type": "stream",
     "text": [
      "Features: 15/15"
     ]
    },
    {
     "name": "stdout",
     "output_type": "stream",
     "text": [
      "Best subset (corresponding names): ('sepal length', 'petal length', 'petal width')\n"
     ]
    }
   ],
   "source": [
    "feature_names = ('sepal length', 'sepal width', 'petal length', 'petal width')\n",
    "efs1 = efs1.fit(X, y, custom_feature_names=feature_names)\n",
    "print('Best subset (corresponding names):', efs1.best_feature_names_)"
   ]
  },
  {
   "cell_type": "markdown",
   "metadata": {},
   "source": [
    "Via the `subsets_` attribute, we can take a look at the selected feature indices at each step:"
   ]
  },
  {
   "cell_type": "code",
   "execution_count": 5,
   "metadata": {},
   "outputs": [
    {
     "data": {
      "text/plain": [
       "{0: {'feature_idx': (0,),\n",
       "  'cv_scores': array([0.53333333, 0.63333333, 0.73333333, 0.76666667, 0.63333333]),\n",
       "  'avg_score': 0.6599999999999999,\n",
       "  'feature_names': ('sepal length',)},\n",
       " 1: {'feature_idx': (1,),\n",
       "  'cv_scores': array([0.53333333, 0.66666667, 0.63333333, 0.53333333, 0.56666667]),\n",
       "  'avg_score': 0.5866666666666667,\n",
       "  'feature_names': ('sepal width',)},\n",
       " 2: {'feature_idx': (2,),\n",
       "  'cv_scores': array([0.93333333, 1.        , 0.9       , 0.93333333, 1.        ]),\n",
       "  'avg_score': 0.9533333333333334,\n",
       "  'feature_names': ('petal length',)},\n",
       " 3: {'feature_idx': (3,),\n",
       "  'cv_scores': array([0.96666667, 0.96666667, 0.93333333, 0.86666667, 1.        ]),\n",
       "  'avg_score': 0.9466666666666667,\n",
       "  'feature_names': ('petal width',)},\n",
       " 4: {'feature_idx': (0, 1),\n",
       "  'cv_scores': array([0.66666667, 0.8       , 0.63333333, 0.86666667, 0.66666667]),\n",
       "  'avg_score': 0.7266666666666667,\n",
       "  'feature_names': ('sepal length', 'sepal width')},\n",
       " 5: {'feature_idx': (0, 2),\n",
       "  'cv_scores': array([0.96666667, 1.        , 0.86666667, 0.93333333, 0.96666667]),\n",
       "  'avg_score': 0.9466666666666667,\n",
       "  'feature_names': ('sepal length', 'petal length')},\n",
       " 6: {'feature_idx': (0, 3),\n",
       "  'cv_scores': array([0.96666667, 0.96666667, 0.9       , 0.93333333, 1.        ]),\n",
       "  'avg_score': 0.9533333333333334,\n",
       "  'feature_names': ('sepal length', 'petal width')},\n",
       " 7: {'feature_idx': (1, 2),\n",
       "  'cv_scores': array([0.96666667, 1.        , 0.9       , 0.93333333, 0.93333333]),\n",
       "  'avg_score': 0.9466666666666667,\n",
       "  'feature_names': ('sepal width', 'petal length')},\n",
       " 8: {'feature_idx': (1, 3),\n",
       "  'cv_scores': array([0.96666667, 0.96666667, 0.86666667, 0.93333333, 0.96666667]),\n",
       "  'avg_score': 0.9400000000000001,\n",
       "  'feature_names': ('sepal width', 'petal width')},\n",
       " 9: {'feature_idx': (2, 3),\n",
       "  'cv_scores': array([0.96666667, 0.96666667, 0.9       , 0.93333333, 1.        ]),\n",
       "  'avg_score': 0.9533333333333334,\n",
       "  'feature_names': ('petal length', 'petal width')},\n",
       " 10: {'feature_idx': (0, 1, 2),\n",
       "  'cv_scores': array([0.96666667, 0.96666667, 0.86666667, 0.93333333, 0.96666667]),\n",
       "  'avg_score': 0.9400000000000001,\n",
       "  'feature_names': ('sepal length', 'sepal width', 'petal length')},\n",
       " 11: {'feature_idx': (0, 1, 3),\n",
       "  'cv_scores': array([0.93333333, 0.96666667, 0.9       , 0.93333333, 1.        ]),\n",
       "  'avg_score': 0.9466666666666667,\n",
       "  'feature_names': ('sepal length', 'sepal width', 'petal width')},\n",
       " 12: {'feature_idx': (0, 2, 3),\n",
       "  'cv_scores': array([0.96666667, 0.96666667, 0.96666667, 0.96666667, 1.        ]),\n",
       "  'avg_score': 0.9733333333333334,\n",
       "  'feature_names': ('sepal length', 'petal length', 'petal width')},\n",
       " 13: {'feature_idx': (1, 2, 3),\n",
       "  'cv_scores': array([0.96666667, 0.96666667, 0.93333333, 0.93333333, 1.        ]),\n",
       "  'avg_score': 0.96,\n",
       "  'feature_names': ('sepal width', 'petal length', 'petal width')},\n",
       " 14: {'feature_idx': (0, 1, 2, 3),\n",
       "  'cv_scores': array([0.96666667, 0.96666667, 0.93333333, 0.96666667, 1.        ]),\n",
       "  'avg_score': 0.9666666666666668,\n",
       "  'feature_names': ('sepal length',\n",
       "   'sepal width',\n",
       "   'petal length',\n",
       "   'petal width')}}"
      ]
     },
     "execution_count": 5,
     "metadata": {},
     "output_type": "execute_result"
    }
   ],
   "source": [
    "efs1.subsets_"
   ]
  },
  {
   "cell_type": "markdown",
   "metadata": {},
   "source": [
    "## Example 2 - Visualizing the feature selection results"
   ]
  },
  {
   "cell_type": "markdown",
   "metadata": {},
   "source": [
    " For our convenience, we can visualize the output from the feature selection in a pandas DataFrame format using the `get_metric_dict` method of the `ExhaustiveFeatureSelector` object. The columns `std_dev` and `std_err` represent the standard deviation and standard errors of the cross-validation scores, respectively."
   ]
  },
  {
   "cell_type": "markdown",
   "metadata": {},
   "source": [
    "Below, we see the DataFrame of the Sequential Forward Selector from Example 2:"
   ]
  },
  {
   "cell_type": "code",
   "execution_count": 6,
   "metadata": {},
   "outputs": [
    {
     "name": "stderr",
     "output_type": "stream",
     "text": [
      "Features: 15/15"
     ]
    },
    {
     "data": {
      "text/html": [
       "<div>\n",
       "<style scoped>\n",
       "    .dataframe tbody tr th:only-of-type {\n",
       "        vertical-align: middle;\n",
       "    }\n",
       "\n",
       "    .dataframe tbody tr th {\n",
       "        vertical-align: top;\n",
       "    }\n",
       "\n",
       "    .dataframe thead th {\n",
       "        text-align: right;\n",
       "    }\n",
       "</style>\n",
       "<table border=\"1\" class=\"dataframe\">\n",
       "  <thead>\n",
       "    <tr style=\"text-align: right;\">\n",
       "      <th></th>\n",
       "      <th>feature_idx</th>\n",
       "      <th>cv_scores</th>\n",
       "      <th>avg_score</th>\n",
       "      <th>feature_names</th>\n",
       "      <th>ci_bound</th>\n",
       "      <th>std_dev</th>\n",
       "      <th>std_err</th>\n",
       "    </tr>\n",
       "  </thead>\n",
       "  <tbody>\n",
       "    <tr>\n",
       "      <th>12</th>\n",
       "      <td>(0, 2, 3)</td>\n",
       "      <td>[0.9666666666666667, 0.9666666666666667, 0.966...</td>\n",
       "      <td>0.973333</td>\n",
       "      <td>(sepal length, petal length, petal width)</td>\n",
       "      <td>0.0171372</td>\n",
       "      <td>0.0133333</td>\n",
       "      <td>0.00666667</td>\n",
       "    </tr>\n",
       "    <tr>\n",
       "      <th>14</th>\n",
       "      <td>(0, 1, 2, 3)</td>\n",
       "      <td>[0.9666666666666667, 0.9666666666666667, 0.933...</td>\n",
       "      <td>0.966667</td>\n",
       "      <td>(sepal length, sepal width, petal length, peta...</td>\n",
       "      <td>0.0270963</td>\n",
       "      <td>0.0210819</td>\n",
       "      <td>0.0105409</td>\n",
       "    </tr>\n",
       "    <tr>\n",
       "      <th>13</th>\n",
       "      <td>(1, 2, 3)</td>\n",
       "      <td>[0.9666666666666667, 0.9666666666666667, 0.933...</td>\n",
       "      <td>0.96</td>\n",
       "      <td>(sepal width, petal length, petal width)</td>\n",
       "      <td>0.0320608</td>\n",
       "      <td>0.0249444</td>\n",
       "      <td>0.0124722</td>\n",
       "    </tr>\n",
       "    <tr>\n",
       "      <th>2</th>\n",
       "      <td>(2,)</td>\n",
       "      <td>[0.9333333333333333, 1.0, 0.9, 0.9333333333333...</td>\n",
       "      <td>0.953333</td>\n",
       "      <td>(petal length,)</td>\n",
       "      <td>0.0514116</td>\n",
       "      <td>0.04</td>\n",
       "      <td>0.02</td>\n",
       "    </tr>\n",
       "    <tr>\n",
       "      <th>6</th>\n",
       "      <td>(0, 3)</td>\n",
       "      <td>[0.9666666666666667, 0.9666666666666667, 0.9, ...</td>\n",
       "      <td>0.953333</td>\n",
       "      <td>(sepal length, petal width)</td>\n",
       "      <td>0.0436915</td>\n",
       "      <td>0.0339935</td>\n",
       "      <td>0.0169967</td>\n",
       "    </tr>\n",
       "    <tr>\n",
       "      <th>9</th>\n",
       "      <td>(2, 3)</td>\n",
       "      <td>[0.9666666666666667, 0.9666666666666667, 0.9, ...</td>\n",
       "      <td>0.953333</td>\n",
       "      <td>(petal length, petal width)</td>\n",
       "      <td>0.0436915</td>\n",
       "      <td>0.0339935</td>\n",
       "      <td>0.0169967</td>\n",
       "    </tr>\n",
       "    <tr>\n",
       "      <th>3</th>\n",
       "      <td>(3,)</td>\n",
       "      <td>[0.9666666666666667, 0.9666666666666667, 0.933...</td>\n",
       "      <td>0.946667</td>\n",
       "      <td>(petal width,)</td>\n",
       "      <td>0.0581151</td>\n",
       "      <td>0.0452155</td>\n",
       "      <td>0.0226078</td>\n",
       "    </tr>\n",
       "    <tr>\n",
       "      <th>5</th>\n",
       "      <td>(0, 2)</td>\n",
       "      <td>[0.9666666666666667, 1.0, 0.8666666666666667, ...</td>\n",
       "      <td>0.946667</td>\n",
       "      <td>(sepal length, petal length)</td>\n",
       "      <td>0.0581151</td>\n",
       "      <td>0.0452155</td>\n",
       "      <td>0.0226078</td>\n",
       "    </tr>\n",
       "    <tr>\n",
       "      <th>7</th>\n",
       "      <td>(1, 2)</td>\n",
       "      <td>[0.9666666666666667, 1.0, 0.9, 0.9333333333333...</td>\n",
       "      <td>0.946667</td>\n",
       "      <td>(sepal width, petal length)</td>\n",
       "      <td>0.0436915</td>\n",
       "      <td>0.0339935</td>\n",
       "      <td>0.0169967</td>\n",
       "    </tr>\n",
       "    <tr>\n",
       "      <th>11</th>\n",
       "      <td>(0, 1, 3)</td>\n",
       "      <td>[0.9333333333333333, 0.9666666666666667, 0.9, ...</td>\n",
       "      <td>0.946667</td>\n",
       "      <td>(sepal length, sepal width, petal width)</td>\n",
       "      <td>0.0436915</td>\n",
       "      <td>0.0339935</td>\n",
       "      <td>0.0169967</td>\n",
       "    </tr>\n",
       "    <tr>\n",
       "      <th>8</th>\n",
       "      <td>(1, 3)</td>\n",
       "      <td>[0.9666666666666667, 0.9666666666666667, 0.866...</td>\n",
       "      <td>0.94</td>\n",
       "      <td>(sepal width, petal width)</td>\n",
       "      <td>0.0499631</td>\n",
       "      <td>0.038873</td>\n",
       "      <td>0.0194365</td>\n",
       "    </tr>\n",
       "    <tr>\n",
       "      <th>10</th>\n",
       "      <td>(0, 1, 2)</td>\n",
       "      <td>[0.9666666666666667, 0.9666666666666667, 0.866...</td>\n",
       "      <td>0.94</td>\n",
       "      <td>(sepal length, sepal width, petal length)</td>\n",
       "      <td>0.0499631</td>\n",
       "      <td>0.038873</td>\n",
       "      <td>0.0194365</td>\n",
       "    </tr>\n",
       "    <tr>\n",
       "      <th>4</th>\n",
       "      <td>(0, 1)</td>\n",
       "      <td>[0.6666666666666666, 0.8, 0.6333333333333333, ...</td>\n",
       "      <td>0.726667</td>\n",
       "      <td>(sepal length, sepal width)</td>\n",
       "      <td>0.11623</td>\n",
       "      <td>0.0904311</td>\n",
       "      <td>0.0452155</td>\n",
       "    </tr>\n",
       "    <tr>\n",
       "      <th>0</th>\n",
       "      <td>(0,)</td>\n",
       "      <td>[0.5333333333333333, 0.6333333333333333, 0.733...</td>\n",
       "      <td>0.66</td>\n",
       "      <td>(sepal length,)</td>\n",
       "      <td>0.106334</td>\n",
       "      <td>0.0827312</td>\n",
       "      <td>0.0413656</td>\n",
       "    </tr>\n",
       "    <tr>\n",
       "      <th>1</th>\n",
       "      <td>(1,)</td>\n",
       "      <td>[0.5333333333333333, 0.6666666666666666, 0.633...</td>\n",
       "      <td>0.586667</td>\n",
       "      <td>(sepal width,)</td>\n",
       "      <td>0.0696117</td>\n",
       "      <td>0.0541603</td>\n",
       "      <td>0.0270801</td>\n",
       "    </tr>\n",
       "  </tbody>\n",
       "</table>\n",
       "</div>"
      ],
      "text/plain": [
       "     feature_idx                                          cv_scores avg_score  \\\n",
       "12     (0, 2, 3)  [0.9666666666666667, 0.9666666666666667, 0.966...  0.973333   \n",
       "14  (0, 1, 2, 3)  [0.9666666666666667, 0.9666666666666667, 0.933...  0.966667   \n",
       "13     (1, 2, 3)  [0.9666666666666667, 0.9666666666666667, 0.933...      0.96   \n",
       "2           (2,)  [0.9333333333333333, 1.0, 0.9, 0.9333333333333...  0.953333   \n",
       "6         (0, 3)  [0.9666666666666667, 0.9666666666666667, 0.9, ...  0.953333   \n",
       "9         (2, 3)  [0.9666666666666667, 0.9666666666666667, 0.9, ...  0.953333   \n",
       "3           (3,)  [0.9666666666666667, 0.9666666666666667, 0.933...  0.946667   \n",
       "5         (0, 2)  [0.9666666666666667, 1.0, 0.8666666666666667, ...  0.946667   \n",
       "7         (1, 2)  [0.9666666666666667, 1.0, 0.9, 0.9333333333333...  0.946667   \n",
       "11     (0, 1, 3)  [0.9333333333333333, 0.9666666666666667, 0.9, ...  0.946667   \n",
       "8         (1, 3)  [0.9666666666666667, 0.9666666666666667, 0.866...      0.94   \n",
       "10     (0, 1, 2)  [0.9666666666666667, 0.9666666666666667, 0.866...      0.94   \n",
       "4         (0, 1)  [0.6666666666666666, 0.8, 0.6333333333333333, ...  0.726667   \n",
       "0           (0,)  [0.5333333333333333, 0.6333333333333333, 0.733...      0.66   \n",
       "1           (1,)  [0.5333333333333333, 0.6666666666666666, 0.633...  0.586667   \n",
       "\n",
       "                                        feature_names   ci_bound    std_dev  \\\n",
       "12          (sepal length, petal length, petal width)  0.0171372  0.0133333   \n",
       "14  (sepal length, sepal width, petal length, peta...  0.0270963  0.0210819   \n",
       "13           (sepal width, petal length, petal width)  0.0320608  0.0249444   \n",
       "2                                     (petal length,)  0.0514116       0.04   \n",
       "6                         (sepal length, petal width)  0.0436915  0.0339935   \n",
       "9                         (petal length, petal width)  0.0436915  0.0339935   \n",
       "3                                      (petal width,)  0.0581151  0.0452155   \n",
       "5                        (sepal length, petal length)  0.0581151  0.0452155   \n",
       "7                         (sepal width, petal length)  0.0436915  0.0339935   \n",
       "11           (sepal length, sepal width, petal width)  0.0436915  0.0339935   \n",
       "8                          (sepal width, petal width)  0.0499631   0.038873   \n",
       "10          (sepal length, sepal width, petal length)  0.0499631   0.038873   \n",
       "4                         (sepal length, sepal width)    0.11623  0.0904311   \n",
       "0                                     (sepal length,)   0.106334  0.0827312   \n",
       "1                                      (sepal width,)  0.0696117  0.0541603   \n",
       "\n",
       "       std_err  \n",
       "12  0.00666667  \n",
       "14   0.0105409  \n",
       "13   0.0124722  \n",
       "2         0.02  \n",
       "6    0.0169967  \n",
       "9    0.0169967  \n",
       "3    0.0226078  \n",
       "5    0.0226078  \n",
       "7    0.0169967  \n",
       "11   0.0169967  \n",
       "8    0.0194365  \n",
       "10   0.0194365  \n",
       "4    0.0452155  \n",
       "0    0.0413656  \n",
       "1    0.0270801  "
      ]
     },
     "execution_count": 6,
     "metadata": {},
     "output_type": "execute_result"
    }
   ],
   "source": [
    "import pandas as pd\n",
    "\n",
    "iris = load_iris()\n",
    "X = iris.data\n",
    "y = iris.target\n",
    "\n",
    "knn = KNeighborsClassifier(n_neighbors=3)\n",
    "\n",
    "efs1 = EFS(knn, \n",
    "           min_features=1,\n",
    "           max_features=4,\n",
    "           scoring='accuracy',\n",
    "           print_progress=True,\n",
    "           cv=5)\n",
    "\n",
    "feature_names = ('sepal length', 'sepal width',\n",
    "                 'petal length', 'petal width')\n",
    "efs1 = efs1.fit(X, y, custom_feature_names=feature_names)\n",
    "\n",
    "df = pd.DataFrame.from_dict(efs1.get_metric_dict()).T\n",
    "df.sort_values('avg_score', inplace=True, ascending=False)\n",
    "df"
   ]
  },
  {
   "cell_type": "code",
   "execution_count": 7,
   "metadata": {},
   "outputs": [
    {
     "data": {
      "image/png": "[encoded data removed]",
      "text/plain": [
       "<Figure size 432x288 with 1 Axes>"
      ]
     },
     "metadata": {
      "needs_background": "light"
     },
     "output_type": "display_data"
    }
   ],
   "source": [
    "import matplotlib.pyplot as plt\n",
    "\n",
    "metric_dict = efs1.get_metric_dict()\n",
    "\n",
    "fig = plt.figure()\n",
    "k_feat = sorted(metric_dict.keys())\n",
    "avg = [metric_dict[k]['avg_score'] for k in k_feat]\n",
    "\n",
    "upper, lower = [], []\n",
    "for k in k_feat:\n",
    "    upper.append(metric_dict[k]['avg_score'] +\n",
    "                 metric_dict[k]['std_dev'])\n",
    "    lower.append(metric_dict[k]['avg_score'] -\n",
    "                 metric_dict[k]['std_dev'])\n",
    "    \n",
    "plt.fill_between(k_feat,\n",
    "                 upper,\n",
    "                 lower,\n",
    "                 alpha=0.2,\n",
    "                 color='blue',\n",
    "                 lw=1)\n",
    "\n",
    "plt.plot(k_feat, avg, color='blue', marker='o')\n",
    "plt.ylabel('Accuracy +/- Standard Deviation')\n",
    "plt.xlabel('Number of Features')\n",
    "feature_min = len(metric_dict[k_feat[0]]['feature_idx'])\n",
    "feature_max = len(metric_dict[k_feat[-1]]['feature_idx'])\n",
    "plt.xticks(k_feat, \n",
    "           [str(metric_dict[k]['feature_names']) for k in k_feat], \n",
    "           rotation=90)\n",
    "plt.show()"
   ]
  },
  {
   "cell_type": "markdown",
   "metadata": {},
   "source": [
    "## Example 3 - Exhaustive feature selection for regression analysis"
   ]
  },
  {
   "cell_type": "markdown",
   "metadata": {},
   "source": [
    "Similar to the classification examples above, the `SequentialFeatureSelector` also supports scikit-learn's estimators\n",
    "for regression."
   ]
  },
  {
   "cell_type": "code",
   "execution_count": 8,
   "metadata": {},
   "outputs": [
    {
     "name": "stderr",
     "output_type": "stream",
     "text": [
      "Features: 377/377"
     ]
    },
    {
     "name": "stdout",
     "output_type": "stream",
     "text": [
      "\n",
      "Best subset: (0, 1, 4, 6, 7, 8, 9, 10, 11, 12)\n"
     ]
    }
   ],
   "source": [
    "from sklearn.linear_model import LinearRegression\n",
    "from sklearn.datasets import load_boston\n",
    "\n",
    "boston = load_boston()\n",
    "X, y = boston.data, boston.target\n",
    "\n",
    "lr = LinearRegression()\n",
    "\n",
    "efs = EFS(lr, \n",
    "          min_features=10,\n",
    "          max_features=12,\n",
    "          scoring='neg_mean_squared_error',\n",
    "          cv=10)\n",
    "\n",
    "efs.fit(X, y)\n",
    "\n",
    "print('Best MSE score: %.2f' % efs.best_score_ * (-1))\n",
    "print('Best subset:', efs.best_idx_)"
   ]
  },
  {
   "cell_type": "markdown",
   "metadata": {},
   "source": [
    "## Example 4 - Regression and adjusted R2"
   ]
  },
  {
   "cell_type": "markdown",
   "metadata": {},
   "source": [
    "As shown in Example 3, the exhaustive feature selector can be used for selecting features via a regression model. In regression analysis, there exists the common phenomenon that the $R^2$ score can become spuriously inflated the more features we choose. Hence, and this is especially true for feature selection, it is useful to make model comparisons based on the adjusted $R^2$ value rather than the regular $R^2$. The adjusted $R^2$, $\\bar{R}^{2}$, accounts for the number of features and examples as follows:\n",
    "\n",
    "$$\\bar{R}^{2}=1-\\left(1-R^{2}\\right) \\frac{n-1}{n-p-1},$$\n",
    "\n",
    "where $n$ is the number of examples and $p$ is the number of features.\n",
    "\n",
    "One of the advantages of scikit-learn's API is that it's consistent, intuitive, and simple to use. However, one downside of this API design is that it can be a bit restrictive for certain scenarios. For instance, scikit-learn scoring function only take two inputs, the predicted and the true target values. Hence, we cannot use scikit-learn's scoring API to compute the adjusted $R^2$, which also requires the number of features.\n",
    "\n",
    "However, as a workaround, we can compute the $R^2$ for the different feature subsets and then do a posthoc computation to obtain the adjusted $R^2$."
   ]
  },
  {
   "cell_type": "markdown",
   "metadata": {},
   "source": [
    "**Step 1: Compute $R^2$:**"
   ]
  },
  {
   "cell_type": "code",
   "execution_count": 9,
   "metadata": {},
   "outputs": [
    {
     "name": "stderr",
     "output_type": "stream",
     "text": [
      "Features: 377/377"
     ]
    },
    {
     "name": "stdout",
     "output_type": "stream",
     "text": [
      "\n",
      "Best subset: (1, 3, 5, 6, 7, 8, 9, 10, 11, 12)\n"
     ]
    }
   ],
   "source": [
    "from sklearn.linear_model import LinearRegression\n",
    "from sklearn.datasets import load_boston\n",
    "\n",
    "boston = load_boston()\n",
    "X, y = boston.data, boston.target\n",
    "\n",
    "lr = LinearRegression()\n",
    "\n",
    "efs = EFS(lr, \n",
    "          min_features=10,\n",
    "          max_features=12,\n",
    "          scoring='r2',\n",
    "          cv=10)\n",
    "\n",
    "efs.fit(X, y)\n",
    "\n",
    "print('Best R2 score: %.2f' % efs.best_score_ * (-1))\n",
    "print('Best subset:', efs.best_idx_)"
   ]
  },
  {
   "cell_type": "markdown",
   "metadata": {},
   "source": [
    "**Step 2: Compute adjusted $R^2$:**"
   ]
  },
  {
   "cell_type": "code",
   "execution_count": 10,
   "metadata": {},
   "outputs": [],
   "source": [
    "def adjust_r2(r2, num_examples, num_features):\n",
    "    coef = (num_examples - 1) / (num_examples - num_features - 1) \n",
    "    return 1 - (1 - r2) * coef"
   ]
  },
  {
   "cell_type": "code",
   "execution_count": 11,
   "metadata": {},
   "outputs": [],
   "source": [
    "for i in efs.subsets_:\n",
    "    efs.subsets_[i]['adjusted_avg_score'] = (\n",
    "        adjust_r2(r2=efs.subsets_[i]['avg_score'],\n",
    "                  num_examples=X.shape[0]/10,\n",
    "                  num_features=len(efs.subsets_[i]['feature_idx']))\n",
    "    )"
   ]
  },
  {
   "cell_type": "markdown",
   "metadata": {},
   "source": [
    "**Step 3: Select best subset based on adjusted $R^2$:**"
   ]
  },
  {
   "cell_type": "code",
   "execution_count": 12,
   "metadata": {},
   "outputs": [],
   "source": [
    "score = -99e10\n",
    "\n",
    "for i in efs.subsets_:\n",
    "    score = efs.subsets_[i]['adjusted_avg_score']\n",
    "    if ( efs.subsets_[i]['adjusted_avg_score'] == score and\n",
    "        len(efs.subsets_[i]['feature_idx']) < len(efs.best_idx_) )\\\n",
    "      or efs.subsets_[i]['adjusted_avg_score'] > score:\n",
    "        efs.best_idx_ = efs.subsets_[i]['feature_idx']"
   ]
  },
  {
   "cell_type": "code",
   "execution_count": 13,
   "metadata": {},
   "outputs": [
    {
     "name": "stdout",
     "output_type": "stream",
     "text": [
      "\n",
      "Best subset: (1, 3, 5, 6, 7, 8, 9, 10, 11, 12)\n"
     ]
    }
   ],
   "source": [
    "print('Best adjusted R2 score: %.2f' % efs.best_score_ * (-1))\n",
    "print('Best subset:', efs.best_idx_)"
   ]
  },
  {
   "cell_type": "markdown",
   "metadata": {},
   "source": [
    "## Example 5 - Using the selected feature subset For making new predictions"
   ]
  },
  {
   "cell_type": "code",
   "execution_count": 14,
   "metadata": {},
   "outputs": [],
   "source": [
    "# Initialize the dataset\n",
    "\n",
    "from sklearn.neighbors import KNeighborsClassifier\n",
    "from sklearn.datasets import load_iris\n",
    "from sklearn.model_selection import train_test_split\n",
    "\n",
    "iris = load_iris()\n",
    "X, y = iris.data, iris.target\n",
    "X_train, X_test, y_train, y_test = train_test_split(\n",
    "         X, y, test_size=0.33, random_state=1)\n",
    "\n",
    "knn = KNeighborsClassifier(n_neighbors=3)"
   ]
  },
  {
   "cell_type": "code",
   "execution_count": 15,
   "metadata": {},
   "outputs": [
    {
     "name": "stderr",
     "output_type": "stream",
     "text": [
      "Features: 15/15"
     ]
    }
   ],
   "source": [
    "# Select the \"best\" three features via\n",
    "# 5-fold cross-validation on the training set.\n",
    "\n",
    "from mlxtend.feature_selection import ExhaustiveFeatureSelector as EFS\n",
    "\n",
    "efs1 = EFS(knn, \n",
    "           min_features=1,\n",
    "           max_features=4,\n",
    "           scoring='accuracy',\n",
    "           cv=5)\n",
    "efs1 = efs1.fit(X_train, y_train)"
   ]
  },
  {
   "cell_type": "code",
   "execution_count": 16,
   "metadata": {},
   "outputs": [
    {
     "name": "stdout",
     "output_type": "stream",
     "text": [
      "Selected features: (2, 3)\n"
     ]
    }
   ],
   "source": [
    "print('Selected features:', efs1.best_idx_)"
   ]
  },
  {
   "cell_type": "code",
   "execution_count": 17,
   "metadata": {},
   "outputs": [
    {
     "name": "stdout",
     "output_type": "stream",
     "text": [
      "Test set accuracy: 96.00 %\n"
     ]
    }
   ],
   "source": [
    "# Generate the new subsets based on the selected features\n",
    "# Note that the transform call is equivalent to\n",
    "# X_train[:, efs1.k_feature_idx_]\n",
    "\n",
    "X_train_efs = efs1.transform(X_train)\n",
    "X_test_efs = efs1.transform(X_test)\n",
    "\n",
    "# Fit the estimator using the new feature subset\n",
    "# and make a prediction on the test data\n",
    "knn.fit(X_train_efs, y_train)\n",
    "y_pred = knn.predict(X_test_efs)\n",
    "\n",
    "# Compute the accuracy of the prediction\n",
    "acc = float((y_test == y_pred).sum()) / y_pred.shape[0]\n",
    "print('Test set accuracy: %.2f %%' % (acc*100))"
   ]
  },
  {
   "cell_type": "markdown",
   "metadata": {},
   "source": [
    "## Example 6 - Exhaustive feature selection and GridSearch"
   ]
  },
  {
   "cell_type": "code",
   "execution_count": 18,
   "metadata": {},
   "outputs": [],
   "source": [
    "# Initialize the dataset\n",
    "\n",
    "from sklearn.datasets import load_iris\n",
    "from sklearn.model_selection import train_test_split\n",
    "\n",
    "iris = load_iris()\n",
    "X, y = iris.data, iris.target\n",
    "X_train, X_test, y_train, y_test = train_test_split(\n",
    "         X, y, test_size=0.33, random_state=1)"
   ]
  },
  {
   "cell_type": "markdown",
   "metadata": {},
   "source": [
    "Use scikit-learn's `GridSearch` to tune the hyperparameters of the `LogisticRegression` estimator inside the `ExhaustiveFeatureSelector` and use it for prediction in the pipeline. **Note that the `clone_estimator` attribute needs to be set to `False`.**"
   ]
  },
  {
   "cell_type": "code",
   "execution_count": 19,
   "metadata": {},
   "outputs": [
    {
     "name": "stderr",
     "output_type": "stream",
     "text": [
      "[Parallel(n_jobs=1)]: Using backend SequentialBackend with 1 concurrent workers.\n"
     ]
    },
    {
     "name": "stdout",
     "output_type": "stream",
     "text": [
      "Fitting 2 folds for each of 3 candidates, totalling 6 fits\n"
     ]
    },
    {
     "name": "stderr",
     "output_type": "stream",
     "text": [
      "[Parallel(n_jobs=1)]: Done   6 out of   6 | elapsed:    3.3s finished\n"
     ]
    }
   ],
   "source": [
    "from sklearn.model_selection import GridSearchCV\n",
    "from sklearn.pipeline import make_pipeline\n",
    "from sklearn.linear_model import LogisticRegression\n",
    "from mlxtend.feature_selection import ExhaustiveFeatureSelector as EFS\n",
    "\n",
    "lr = LogisticRegression(multi_class='multinomial', \n",
    "                        solver='newton-cg', \n",
    "                        random_state=123)\n",
    "\n",
    "efs1 = EFS(estimator=lr, \n",
    "           min_features=2,\n",
    "           max_features=3,\n",
    "           scoring='accuracy',\n",
    "           print_progress=False,\n",
    "           clone_estimator=False,\n",
    "           cv=5,\n",
    "           n_jobs=1)\n",
    "\n",
    "pipe = make_pipeline(efs1, lr)\n",
    "\n",
    "param_grid = {'exhaustivefeatureselector__estimator__C': [0.1, 1.0, 10.0]}\n",
    "    \n",
    "gs = GridSearchCV(estimator=pipe, \n",
    "                  param_grid=param_grid, \n",
    "                  scoring='accuracy', \n",
    "                  n_jobs=1, \n",
    "                  cv=2, \n",
    "                  verbose=1, \n",
    "                  refit=False)\n",
    "\n",
    "# run gridearch\n",
    "gs = gs.fit(X_train, y_train)"
   ]
  },
  {
   "cell_type": "markdown",
   "metadata": {},
   "source": [
    "... and the \"best\" parameters determined by GridSearch are ..."
   ]
  },
  {
   "cell_type": "code",
   "execution_count": 20,
   "metadata": {},
   "outputs": [
    {
     "name": "stdout",
     "output_type": "stream",
     "text": [
      "Best parameters via GridSearch {'exhaustivefeatureselector__estimator__C': 0.1}\n"
     ]
    }
   ],
   "source": [
    "print(\"Best parameters via GridSearch\", gs.best_params_)"
   ]
  },
  {
   "cell_type": "markdown",
   "metadata": {},
   "source": [
    "#### Obtaining the best *k* feature indices after GridSearch"
   ]
  },
  {
   "cell_type": "markdown",
   "metadata": {},
   "source": [
    "If we are interested in the best *k* best feature indices via `SequentialFeatureSelection.best_idx_`, we have to initialize a `GridSearchCV` object with `refit=True`. Now, the grid search object will take the complete training dataset and the best parameters, which it found via cross-validation, to train the estimator pipeline."
   ]
  },
  {
   "cell_type": "code",
   "execution_count": 21,
   "metadata": {},
   "outputs": [],
   "source": [
    "gs = GridSearchCV(estimator=pipe, \n",
    "                  param_grid=param_grid, \n",
    "                  scoring='accuracy', \n",
    "                  n_jobs=1, \n",
    "                  cv=2, \n",
    "                  verbose=1, \n",
    "                  refit=True)"
   ]
  },
  {
   "cell_type": "markdown",
   "metadata": {},
   "source": [
    "After running the grid search, we can access the individual pipeline objects of the `best_estimator_` via the `steps` attribute."
   ]
  },
  {
   "cell_type": "code",
   "execution_count": 22,
   "metadata": {},
   "outputs": [
    {
     "name": "stderr",
     "output_type": "stream",
     "text": [
      "[Parallel(n_jobs=1)]: Using backend SequentialBackend with 1 concurrent workers.\n"
     ]
    },
    {
     "name": "stdout",
     "output_type": "stream",
     "text": [
      "Fitting 2 folds for each of 3 candidates, totalling 6 fits\n"
     ]
    },
    {
     "name": "stderr",
     "output_type": "stream",
     "text": [
      "[Parallel(n_jobs=1)]: Done   6 out of   6 | elapsed:    3.1s finished\n"
     ]
    },
    {
     "data": {
      "text/plain": [
       "[('exhaustivefeatureselector',\n",
       "  ExhaustiveFeatureSelector(clone_estimator=False, cv=5,\n",
       "                            estimator=LogisticRegression(C=0.1, class_weight=None,\n",
       "                                                         dual=False,\n",
       "                                                         fit_intercept=True,\n",
       "                                                         intercept_scaling=1,\n",
       "                                                         l1_ratio=None,\n",
       "                                                         max_iter=100,\n",
       "                                                         multi_class='multinomial',\n",
       "                                                         n_jobs=None,\n",
       "                                                         penalty='l2',\n",
       "                                                         random_state=123,\n",
       "                                                         solver='newton-cg',\n",
       "                                                         tol=0.0001, verbose=0,\n",
       "                                                         warm_start=False),\n",
       "                            max_features=3, min_features=2, n_jobs=1,\n",
       "                            pre_dispatch='2*n_jobs', print_progress=False,\n",
       "                            scoring='accuracy')),\n",
       " ('logisticregression',\n",
       "  LogisticRegression(C=1.0, class_weight=None, dual=False, fit_intercept=True,\n",
       "                     intercept_scaling=1, l1_ratio=None, max_iter=100,\n",
       "                     multi_class='multinomial', n_jobs=None, penalty='l2',\n",
       "                     random_state=123, solver='newton-cg', tol=0.0001, verbose=0,\n",
       "                     warm_start=False))]"
      ]
     },
     "execution_count": 22,
     "metadata": {},
     "output_type": "execute_result"
    }
   ],
   "source": [
    "gs = gs.fit(X_train, y_train)\n",
    "gs.best_estimator_.steps"
   ]
  },
  {
   "cell_type": "markdown",
   "metadata": {},
   "source": [
    "Via sub-indexing, we can then obtain the best-selected feature subset:"
   ]
  },
  {
   "cell_type": "code",
   "execution_count": 23,
   "metadata": {},
   "outputs": [
    {
     "name": "stdout",
     "output_type": "stream",
     "text": [
      "Best features: (2, 3)\n"
     ]
    }
   ],
   "source": [
    "print('Best features:', gs.best_estimator_.steps[0][1].best_idx_)"
   ]
  },
  {
   "cell_type": "markdown",
   "metadata": {},
   "source": [
    "During cross-validation, this feature combination had a CV accuracy of:"
   ]
  },
  {
   "cell_type": "code",
   "execution_count": 24,
   "metadata": {},
   "outputs": [
    {
     "name": "stdout",
     "output_type": "stream",
     "text": [
      "Best score: 0.96\n"
     ]
    }
   ],
   "source": [
    "print('Best score:', gs.best_score_)"
   ]
  },
  {
   "cell_type": "code",
   "execution_count": 25,
   "metadata": {},
   "outputs": [
    {
     "data": {
      "text/plain": [
       "{'exhaustivefeatureselector__estimator__C': 0.1}"
      ]
     },
     "execution_count": 25,
     "metadata": {},
     "output_type": "execute_result"
    }
   ],
   "source": [
    "gs.best_params_"
   ]
  },
  {
   "cell_type": "markdown",
   "metadata": {},
   "source": [
    "**Alternatively**, if we can set the \"best grid search parameters\" in our pipeline manually if we ran `GridSearchCV` with `refit=False`. It should yield the same results:"
   ]
  },
  {
   "cell_type": "code",
   "execution_count": 26,
   "metadata": {},
   "outputs": [
    {
     "name": "stdout",
     "output_type": "stream",
     "text": [
      "Best features: (2, 3)\n"
     ]
    }
   ],
   "source": [
    "pipe.set_params(**gs.best_params_).fit(X_train, y_train)\n",
    "print('Best features:', pipe.steps[0][1].best_idx_)"
   ]
  },
  {
   "cell_type": "markdown",
   "metadata": {},
   "source": [
    "## Example 7 - Working with pandas DataFrames"
   ]
  },
  {
   "cell_type": "markdown",
   "metadata": {},
   "source": [
    "Optionally, we can also use pandas DataFrames and pandas Series as input to the `fit` function. In this case, the column names of the pandas DataFrame will be used as feature names. However, note that if `custom_feature_names` are provided in the fit function, these `custom_feature_names` take precedence over the DataFrame column-based feature names."
   ]
  },
  {
   "cell_type": "code",
   "execution_count": 27,
   "metadata": {},
   "outputs": [],
   "source": [
    "import pandas as pd\n",
    "from sklearn.neighbors import KNeighborsClassifier\n",
    "from sklearn.datasets import load_iris\n",
    "\n",
    "iris = load_iris()\n",
    "col_names = ('sepal length', 'sepal width',\n",
    "             'petal length', 'petal width')\n",
    "X_df = pd.DataFrame(iris.data, columns=col_names)\n",
    "y_series = pd.Series(iris.target)\n",
    "knn = KNeighborsClassifier(n_neighbors=4)"
   ]
  },
  {
   "cell_type": "code",
   "execution_count": 28,
   "metadata": {},
   "outputs": [
    {
     "name": "stderr",
     "output_type": "stream",
     "text": [
      "Features: 15/15"
     ]
    },
    {
     "name": "stdout",
     "output_type": "stream",
     "text": [
      "Best accuracy score: 0.97\n",
      "Best subset (indices): (0, 2, 3)\n",
      "Best subset (corresponding names): ('sepal length', 'petal length', 'petal width')\n"
     ]
    }
   ],
   "source": [
    "from mlxtend.feature_selection import ExhaustiveFeatureSelector as EFS\n",
    "\n",
    "knn = KNeighborsClassifier(n_neighbors=3)\n",
    "\n",
    "efs1 = EFS(knn, \n",
    "           min_features=1,\n",
    "           max_features=4,\n",
    "           scoring='accuracy',\n",
    "           print_progress=True,\n",
    "           cv=5)\n",
    "\n",
    "efs1 = efs1.fit(X_df, y_series)\n",
    "\n",
    "print('Best accuracy score: %.2f' % efs1.best_score_)\n",
    "print('Best subset (indices):', efs1.best_idx_)\n",
    "print('Best subset (corresponding names):', efs1.best_feature_names_)"
   ]
  },
  {
   "cell_type": "markdown",
   "metadata": {},
   "source": [
    "## Example 8 - Exhaustive Feature Selection with LOOCV"
   ]
  },
  {
   "cell_type": "markdown",
   "metadata": {},
   "source": [
    "The `ExhaustiveFeatureSelector` is not restricted to k-fold cross-validation. You can use any type of cross-validation method that supports the general scikit-learn cross-validation API. \n",
    "\n",
    "The following example illustrates the use of scikit-learn's `LeaveOneOut` cross-validation method in combination with the exhaustive feature selector."
   ]
  },
  {
   "cell_type": "code",
   "execution_count": 29,
   "metadata": {},
   "outputs": [
    {
     "name": "stderr",
     "output_type": "stream",
     "text": [
      "Features: 15/15"
     ]
    },
    {
     "name": "stdout",
     "output_type": "stream",
     "text": [
      "Best accuracy score: 0.96\n",
      "Best subset (indices): (3,)\n",
      "Best subset (corresponding names): ('3',)\n"
     ]
    }
   ],
   "source": [
    "from sklearn.neighbors import KNeighborsClassifier\n",
    "from sklearn.datasets import load_iris\n",
    "from mlxtend.feature_selection import ExhaustiveFeatureSelector as EFS\n",
    "from sklearn.model_selection import LeaveOneOut\n",
    "\n",
    "\n",
    "iris = load_iris()\n",
    "X = iris.data\n",
    "y = iris.target\n",
    "\n",
    "knn = KNeighborsClassifier(n_neighbors=3)\n",
    "\n",
    "efs1 = EFS(knn, \n",
    "           min_features=1,\n",
    "           max_features=4,\n",
    "           scoring='accuracy',\n",
    "           print_progress=True,\n",
    "           cv=LeaveOneOut()) ### Use cross-validation generator here\n",
    "\n",
    "efs1 = efs1.fit(X, y)\n",
    "\n",
    "print('Best accuracy score: %.2f' % efs1.best_score_)\n",
    "print('Best subset (indices):', efs1.best_idx_)\n",
    "print('Best subset (corresponding names):', efs1.best_feature_names_)"
   ]
  },
  {
   "cell_type": "markdown",
   "metadata": {},
   "source": [
    "## API"
   ]
  },
  {
   "cell_type": "code",
   "execution_count": 30,
   "metadata": {},
   "outputs": [
    {
     "name": "stdout",
     "output_type": "stream",
     "text": [
      "## ExhaustiveFeatureSelector\n",
      "\n",
      "*ExhaustiveFeatureSelector(estimator, min_features=1, max_features=1, print_progress=True, scoring='accuracy', cv=5, n_jobs=1, pre_dispatch='2*n_jobs', clone_estimator=True)*\n",
      "\n",
      "Exhaustive Feature Selection for Classification and Regression.\n",
      "(new in v0.4.3)\n",
      "\n",
      "**Parameters**\n",
      "\n",
      "- `estimator` : scikit-learn classifier or regressor\n",
      "\n",
      "\n",
      "- `min_features` : int (default: 1)\n",
      "\n",
      "    Minumum number of features to select\n",
      "\n",
      "- `max_features` : int (default: 1)\n",
      "\n",
      "    Maximum number of features to select\n",
      "\n",
      "- `print_progress` : bool (default: True)\n",
      "\n",
      "    Prints progress as the number of epochs\n",
      "    to stderr.\n",
      "\n",
      "- `scoring` : str, (default='accuracy')\n",
      "\n",
      "    Scoring metric in {accuracy, f1, precision, recall, roc_auc}\n",
      "    for classifiers,\n",
      "    {'mean_absolute_error', 'mean_squared_error',\n",
      "    'median_absolute_error', 'r2'} for regressors,\n",
      "    or a callable object or function with\n",
      "    signature ``scorer(estimator, X, y)``.\n",
      "\n",
      "- `cv` : int (default: 5)\n",
      "\n",
      "    Scikit-learn cross-validation generator or `int`.\n",
      "    If estimator is a classifier (or y consists of integer class labels),\n",
      "    stratified k-fold is performed, and regular k-fold cross-validation\n",
      "    otherwise.\n",
      "    No cross-validation if cv is None, False, or 0.\n",
      "\n",
      "- `n_jobs` : int (default: 1)\n",
      "\n",
      "    The number of CPUs to use for evaluating different feature subsets\n",
      "    in parallel. -1 means 'all CPUs'.\n",
      "\n",
      "- `pre_dispatch` : int, or string (default: '2*n_jobs')\n",
      "\n",
      "    Controls the number of jobs that get dispatched\n",
      "    during parallel execution if `n_jobs > 1` or `n_jobs=-1`.\n",
      "    Reducing this number can be useful to avoid an explosion of\n",
      "    memory consumption when more jobs get dispatched than CPUs can process.\n",
      "    This parameter can be:\n",
      "    None, in which case all the jobs are immediately created and spawned.\n",
      "    Use this for lightweight and fast-running jobs,\n",
      "    to avoid delays due to on-demand spawning of the jobs\n",
      "    An int, giving the exact number of total jobs that are spawned\n",
      "    A string, giving an expression as a function\n",
      "    of n_jobs, as in `2*n_jobs`\n",
      "\n",
      "- `clone_estimator` : bool (default: True)\n",
      "\n",
      "    Clones estimator if True; works with the original estimator instance\n",
      "    if False. Set to False if the estimator doesn't\n",
      "    implement scikit-learn's set_params and get_params methods.\n",
      "    In addition, it is required to set cv=0, and n_jobs=1.\n",
      "\n",
      "**Attributes**\n",
      "\n",
      "- `best_idx_` : array-like, shape = [n_predictions]\n",
      "\n",
      "    Feature Indices of the selected feature subsets.\n",
      "\n",
      "- `best_feature_names_` : array-like, shape = [n_predictions]\n",
      "\n",
      "    Feature names of the selected feature subsets. If pandas\n",
      "    DataFrames are used in the `fit` method, the feature\n",
      "    names correspond to the column names. Otherwise, the\n",
      "    feature names are string representation of the feature\n",
      "    array indices. New in v 0.13.0.\n",
      "\n",
      "- `best_score_` : float\n",
      "\n",
      "    Cross validation average score of the selected subset.\n",
      "\n",
      "- `subsets_` : dict\n",
      "\n",
      "    A dictionary of selected feature subsets during the\n",
      "    exhaustive selection, where the dictionary keys are\n",
      "    the lengths k of these feature subsets. The dictionary\n",
      "    values are dictionaries themselves with the following\n",
      "    keys: 'feature_idx' (tuple of indices of the feature subset)\n",
      "    'feature_names' (tuple of feature names of the feat. subset)\n",
      "    'cv_scores' (list individual cross-validation scores)\n",
      "    'avg_score' (average cross-validation score)\n",
      "    Note that if pandas\n",
      "    DataFrames are used in the `fit` method, the 'feature_names'\n",
      "    correspond to the column names. Otherwise, the\n",
      "    feature names are string representation of the feature\n",
      "    array indices. The 'feature_names' is new in v 0.13.0.\n",
      "\n",
      "**Examples**\n",
      "\n",
      "For usage examples, please see\n",
      "    [http://rasbt.github.io/mlxtend/user_guide/feature_selection/ExhaustiveFeatureSelector/](http://rasbt.github.io/mlxtend/user_guide/feature_selection/ExhaustiveFeatureSelector/)\n",
      "\n",
      "### Methods\n",
      "\n",
      "<hr>\n",
      "\n",
      "*fit(X, y, custom_feature_names=None, groups=None, **fit_params)*\n",
      "\n",
      "Perform feature selection and learn model from training data.\n",
      "\n",
      "**Parameters**\n",
      "\n",
      "- `X` : {array-like, sparse matrix}, shape = [n_samples, n_features]\n",
      "\n",
      "    Training vectors, where n_samples is the number of samples and\n",
      "    n_features is the number of features.\n",
      "    New in v 0.13.0: pandas DataFrames are now also accepted as\n",
      "    argument for X.\n",
      "\n",
      "- `y` : array-like, shape = [n_samples]\n",
      "\n",
      "    Target values.\n",
      "\n",
      "- `custom_feature_names` : None or tuple (default: tuple)\n",
      "\n",
      "    Custom feature names for `self.k_feature_names` and\n",
      "    `self.subsets_[i]['feature_names']`.\n",
      "    (new in v 0.13.0)\n",
      "\n",
      "- `groups` : array-like, with shape (n_samples,), optional\n",
      "\n",
      "    Group labels for the samples used while splitting the dataset into\n",
      "    train/test set. Passed to the fit method of the cross-validator.\n",
      "\n",
      "- `fit_params` : dict of string -> object, optional\n",
      "\n",
      "    Parameters to pass to to the fit method of classifier.\n",
      "\n",
      "**Returns**\n",
      "\n",
      "- `self` : object\n",
      "\n",
      "\n",
      "<hr>\n",
      "\n",
      "*fit_transform(X, y, groups=None, **fit_params)*\n",
      "\n",
      "Fit to training data and return the best selected features from X.\n",
      "\n",
      "**Parameters**\n",
      "\n",
      "- `X` : {array-like, sparse matrix}, shape = [n_samples, n_features]\n",
      "\n",
      "    Training vectors, where n_samples is the number of samples and\n",
      "    n_features is the number of features.\n",
      "    New in v 0.13.0: pandas DataFrames are now also accepted as\n",
      "    argument for X.\n",
      "\n",
      "- `y` : array-like, shape = [n_samples]\n",
      "\n",
      "    Target values.\n",
      "\n",
      "- `groups` : array-like, with shape (n_samples,), optional\n",
      "\n",
      "    Group labels for the samples used while splitting the dataset into\n",
      "    train/test set. Passed to the fit method of the cross-validator.\n",
      "\n",
      "- `fit_params` : dict of string -> object, optional\n",
      "\n",
      "    Parameters to pass to to the fit method of classifier.\n",
      "\n",
      "**Returns**\n",
      "\n",
      "Feature subset of X, shape={n_samples, k_features}\n",
      "\n",
      "<hr>\n",
      "\n",
      "*get_metric_dict(confidence_interval=0.95)*\n",
      "\n",
      "Return metric dictionary\n",
      "\n",
      "**Parameters**\n",
      "\n",
      "- `confidence_interval` : float (default: 0.95)\n",
      "\n",
      "    A positive float between 0.0 and 1.0 to compute the confidence\n",
      "    interval bounds of the CV score averages.\n",
      "\n",
      "**Returns**\n",
      "\n",
      "Dictionary with items where each dictionary value is a list\n",
      "    with the number of iterations (number of feature subsets) as\n",
      "    its length. The dictionary keys corresponding to these lists\n",
      "    are as follows:\n",
      "    'feature_idx': tuple of the indices of the feature subset\n",
      "    'cv_scores': list with individual CV scores\n",
      "    'avg_score': of CV average scores\n",
      "    'std_dev': standard deviation of the CV score average\n",
      "    'std_err': standard error of the CV score average\n",
      "    'ci_bound': confidence interval bound of the CV score average\n",
      "\n",
      "<hr>\n",
      "\n",
      "*get_params(deep=True)*\n",
      "\n",
      "Get parameters for this estimator.\n",
      "\n",
      "**Parameters**\n",
      "\n",
      "- `deep` : bool, default=True\n",
      "\n",
      "    If True, will return the parameters for this estimator and\n",
      "    contained subobjects that are estimators.\n",
      "\n",
      "**Returns**\n",
      "\n",
      "- `params` : mapping of string to any\n",
      "\n",
      "    Parameter names mapped to their values.\n",
      "\n",
      "<hr>\n",
      "\n",
      "*set_params(**params)*\n",
      "\n",
      "Set the parameters of this estimator.\n",
      "\n",
      "The method works on simple estimators as well as on nested objects\n",
      "(such as pipelines). The latter have parameters of the form\n",
      "``<component>__<parameter>`` so that it's possible to update each\n",
      "component of a nested object.\n",
      "\n",
      "**Parameters**\n",
      "\n",
      "- `**params` : dict\n",
      "\n",
      "    Estimator parameters.\n",
      "\n",
      "**Returns**\n",
      "\n",
      "- `self` : object\n",
      "\n",
      "    Estimator instance.\n",
      "\n",
      "<hr>\n",
      "\n",
      "*transform(X)*\n",
      "\n",
      "Return the best selected features from X.\n",
      "\n",
      "**Parameters**\n",
      "\n",
      "- `X` : {array-like, sparse matrix}, shape = [n_samples, n_features]\n",
      "\n",
      "    Training vectors, where n_samples is the number of samples and\n",
      "    n_features is the number of features.\n",
      "    New in v 0.13.0: pandas DataFrames are now also accepted as\n",
      "    argument for X.\n",
      "\n",
      "**Returns**\n",
      "\n",
      "Feature subset of X, shape={n_samples, k_features}\n",
      "\n",
      "\n"
     ]
    }
   ],
   "source": [
    "with open('../../api_modules/mlxtend.feature_selection/ExhaustiveFeatureSelector.md', 'r') as f:\n",
    "    print(f.read())"
   ]
  }
 ],
 "metadata": {
  "kernelspec": {
   "display_name": "Python 3",
   "language": "python",
   "name": "python3"
  },
  "language_info": {
   "codemirror_mode": {
    "name": "ipython",
    "version": 3
   },
   "file_extension": ".py",
   "mimetype": "text/x-python",
   "name": "python",
   "nbconvert_exporter": "python",
   "pygments_lexer": "ipython3",
   "version": "3.7.1"
  },
  "toc": {
   "nav_menu": {},
   "number_sections": true,
   "sideBar": true,
   "skip_h1_title": false,
   "title_cell": "Table of Contents",
   "title_sidebar": "Contents",
   "toc_cell": false,
   "toc_position": {},
   "toc_section_display": true,
   "toc_window_display": false
  }
 },
 "nbformat": 4,
 "nbformat_minor": 4
}
